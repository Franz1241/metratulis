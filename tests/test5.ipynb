{
 "cells": [
  {
   "cell_type": "code",
   "execution_count": 3,
   "metadata": {},
   "outputs": [],
   "source": [
    "import polars as pl\n",
    "pl.Config().set_tbl_rows(1000)\n",
    "pl.Config().set_fmt_str_lengths(50)\n",
    "pl.Config().set_fmt_table_cell_list_len(20)\n",
    "from datetime import datetime, time, timedelta\n",
    "import sys\n",
    "sys.path.append(\"..\")\n",
    "\n",
    "from libs.BusNetwork import BusNetwork"
   ]
  },
  {
   "cell_type": "code",
   "execution_count": 4,
   "metadata": {},
   "outputs": [],
   "source": [
    "routes_df = pl.read_parquet('../static/routes.parquet')\n",
    "assert routes_df.filter(pl.col('name').is_duplicated()).shape[0] == 0, 'Duplicate route names found'\n",
    "estaciones_df = pl.read_csv('../static/_dim_estaciones.csv')\n",
    "estaciones = {}\n",
    "for row in estaciones_df.to_dicts():\n",
    "    estaciones[row['id']] = row['name']"
   ]
  },
  {
   "cell_type": "code",
   "execution_count": 5,
   "metadata": {},
   "outputs": [],
   "source": [
    "dir = 'NS'\n",
    "# time_now = datetime.now().time()\n",
    "time_now = time(7,0)\n",
    "# day_now = datetime.now().weekday()\n",
    "day_now = 2\n",
    "inicio = 10\n",
    "fin = 34\n",
    "# inicio = 1\n",
    "# fin = 7\n",
    "\n",
    "\n",
    "routes_df = routes_df.filter(\n",
    "    (pl.col('schedule').list.first()<time_now)\n",
    "    &(pl.col('schedule').list.last()>time_now)\n",
    "    &(pl.col('days').list.contains(day_now))\n",
    "    &(pl.col('direction')==dir)\n",
    "    )"
   ]
  },
  {
   "cell_type": "code",
   "execution_count": 6,
   "metadata": {},
   "outputs": [],
   "source": [
    "network = BusNetwork()\n",
    "rutas = {}\n",
    "\n",
    "for row in routes_df.to_dicts():\n",
    "    network.add_route(row['name'], row['stops'])\n",
    "    rutas[row['name']] = row['commercial_name']"
   ]
  },
  {
   "cell_type": "code",
   "execution_count": 7,
   "metadata": {},
   "outputs": [],
   "source": [
    "def route_stats(routes, path):\n",
    "    unique_buses= []\n",
    "    stops = []\n",
    "    aux_current = None\n",
    "    for x,y in enumerate(routes):\n",
    "        if y != aux_current:\n",
    "            unique_buses.append(y)\n",
    "            if x != 0:\n",
    "                stops.append(path[x-1])\n",
    "                # stops.append(path[x])\n",
    "\n",
    "            aux_current = y\n",
    "    stops.append(path[-1])\n",
    "    return unique_buses, stops"
   ]
  },
  {
   "cell_type": "code",
   "execution_count": 8,
   "metadata": {},
   "outputs": [
    {
     "name": "stdout",
     "output_type": "stream",
     "text": [
      "Inicio:  Tomas Valle\n",
      "Fin:  28 de Julio\n",
      "Path:  [23, 27, 32, 34]\n",
      "Routes:  ['Expreso7|NS', 'Expreso7|NS', 'Expreso2|NS|1', 'Expreso2|NS|1']\n"
     ]
    }
   ],
   "source": [
    "\n",
    "\n",
    "print('Inicio: ', estaciones[inicio])\n",
    "print('Fin: ', estaciones[fin])\n",
    "path, routes = network.find_shortest_path(inicio, fin)\n",
    "print('Path: ', path)\n",
    "print('Routes: ', routes)"
   ]
  },
  {
   "cell_type": "code",
   "execution_count": 9,
   "metadata": {},
   "outputs": [
    {
     "name": "stdout",
     "output_type": "stream",
     "text": [
      "Para ir de Tomas Valle hasta 28 de Julio tienes que tomar:\n",
      "La ruta Expreso7 desde Tomas Valle hasta Javier Prado\n",
      "La ruta Expreso2 desde Javier Prado hasta 28 de Julio\n"
     ]
    }
   ],
   "source": [
    "path, routes = network.find_shortest_path(inicio, fin)\n",
    "unique_buses, stops = route_stats(routes, path)\n",
    "\n",
    "print(f\"Para ir de {estaciones[inicio]} hasta {estaciones[fin]} tienes que tomar:\")\n",
    "\n",
    "for i in range(len(unique_buses)):\n",
    "    if i == 0:\n",
    "        print(f\"La ruta {rutas[unique_buses[i]]} desde {estaciones[inicio]} hasta {estaciones[stops[i]]}\")\n",
    "    elif i == len(unique_buses)-1:\n",
    "        print(f\"La ruta {rutas[unique_buses[i]]} desde {estaciones[stops[i-1]]} hasta {estaciones[fin]}\")\n",
    "    else:\n",
    "        print(f\"La ruta {rutas[unique_buses[i]]} desde {estaciones[stops[i-1]]} hasta {estaciones[stops[i]]}\")"
   ]
  },
  {
   "cell_type": "code",
   "execution_count": 10,
   "metadata": {},
   "outputs": [
    {
     "name": "stdout",
     "output_type": "stream",
     "text": [
      "Para ir de 10 hasta 34 tienes que tomar:\n",
      "La ruta Expreso7 desde 10 hasta 27\n",
      "La ruta Expreso2 desde 27 hasta 34\n"
     ]
    }
   ],
   "source": [
    "print(f\"Para ir de {inicio} hasta {fin} tienes que tomar:\")\n",
    "\n",
    "for i in range(len(unique_buses)):\n",
    "    if i == 0:\n",
    "        print(f\"La ruta {rutas[unique_buses[i]]} desde {inicio} hasta {stops[i]}\")\n",
    "    elif i == len(unique_buses)-1:\n",
    "        print(f\"La ruta {rutas[unique_buses[i]]} desde {stops[i-1]} hasta {fin}\")\n",
    "    else:\n",
    "        print(f\"La ruta {rutas[unique_buses[i]]} desde {stops[i-1]} hasta {stops[i]}\")"
   ]
  },
  {
   "cell_type": "code",
   "execution_count": 11,
   "metadata": {},
   "outputs": [
    {
     "data": {
      "text/html": [
       "<div><style>\n",
       ".dataframe > thead > tr,\n",
       ".dataframe > tbody > tr {\n",
       "  text-align: right;\n",
       "  white-space: pre-wrap;\n",
       "}\n",
       "</style>\n",
       "<small>shape: (14, 7)</small><table border=\"1\" class=\"dataframe\"><thead><tr><th>commercial_name</th><th>name</th><th>direction</th><th>days</th><th>shift</th><th>schedule</th><th>stops</th></tr><tr><td>str</td><td>str</td><td>str</td><td>list[i64]</td><td>str</td><td>list[time]</td><td>list[i64]</td></tr></thead><tbody><tr><td>&quot;A&quot;</td><td>&quot;A1&quot;</td><td>&quot;NS&quot;</td><td>[0, 1, 2, 3, 4, 5]</td><td>null</td><td>[05:00:00, 23:00:00]</td><td>[5, 6, 7, 8, 9, 10, 11, 12, 13, 14, 15, 16, 20, 21, 22, 23]</td></tr><tr><td>&quot;C&quot;</td><td>&quot;C1&quot;</td><td>&quot;NS&quot;</td><td>[0, 1, 2, 3, 4, 5]</td><td>null</td><td>[05:00:00, 23:00:00]</td><td>[16, 20, 21, 22, 23, 24, 25, 26, 27, 28, 29, 30, 31, 32, 33, 34, 35, 36, 37, … 42]</td></tr><tr><td>&quot;D&quot;</td><td>&quot;D1&quot;</td><td>&quot;NS&quot;</td><td>[0, 1, 2, 3, 4, 5]</td><td>null</td><td>[05:00:00, 10:30:00]</td><td>[1, 2, 3, 4, 5, 6, 7, 8, 9, 10, 11, 12, 13, 14, 15, 17, 18, 19, 23]</td></tr><tr><td>&quot;Expreso1&quot;</td><td>&quot;Expreso1|NS|M|1&quot;</td><td>&quot;NS&quot;</td><td>[0, 1, 2, 3, 4]</td><td>&quot;M&quot;</td><td>[05:30:00, 09:30:00]</td><td>[23, 24, 27, 28, 31, 34, 36, 42]</td></tr><tr><td>&quot;Expreso2&quot;</td><td>&quot;Expreso2|NS|1&quot;</td><td>&quot;NS&quot;</td><td>[0, 1, 2, 3, 4]</td><td>&quot;M&quot;</td><td>[05:00:00, 09:00:00]</td><td>[5, 26, 27, 32, 34]</td></tr><tr><td>&quot;Expreso3&quot;</td><td>&quot;Expreso3|NS1&quot;</td><td>&quot;NS&quot;</td><td>[0, 1, 2, 3, 4]</td><td>&quot;M&quot;</td><td>[05:30:00, 09:00:00]</td><td>[5, 31, 33, 34]</td></tr><tr><td>&quot;Expreso6&quot;</td><td>&quot;Expreso6|NS&quot;</td><td>&quot;NS&quot;</td><td>[0, 1, 2, 3, 4]</td><td>&quot;M&quot;</td><td>[05:30:00, 10:00:00]</td><td>[6, 8, 23, 27, 28, 31, 33]</td></tr><tr><td>&quot;Expreso7&quot;</td><td>&quot;Expreso7|NS&quot;</td><td>&quot;NS&quot;</td><td>[0, 1, 2, 3, 4]</td><td>&quot;M&quot;</td><td>[05:30:00, 09:00:00]</td><td>[10, 23, 27, 28, 31]</td></tr><tr><td>&quot;Expreso9&quot;</td><td>&quot;Expreso9|NS&quot;</td><td>&quot;NS&quot;</td><td>[0, 1, 2, 3, 4]</td><td>&quot;M&quot;</td><td>[05:30:00, 09:00:00]</td><td>[13, 15, 26, 28, 31, 33]</td></tr><tr><td>&quot;Expreso10&quot;</td><td>&quot;Expreso10|NS&quot;</td><td>&quot;NS&quot;</td><td>[0, 1, 2, 3, 4]</td><td>&quot;M&quot;</td><td>[06:00:00, 09:00:00]</td><td>[5, 15, 16, 20, 21, 22, 23]</td></tr><tr><td>&quot;Expreso11&quot;</td><td>&quot;Expreso11|NS&quot;</td><td>&quot;NS&quot;</td><td>[0, 1, 2, 3, 4]</td><td>&quot;M&quot;</td><td>[05:00:00, 10:00:00]</td><td>[1, 2, 3, 4, 7, 23]</td></tr><tr><td>&quot;Expreso12&quot;</td><td>&quot;Expreso12|NS&quot;</td><td>&quot;NS&quot;</td><td>[0, 1, 2, 3, 4]</td><td>&quot;M&quot;</td><td>[05:45:00, 10:00:00]</td><td>[23, 27, 28, 31]</td></tr><tr><td>&quot;Super Expreso&quot;</td><td>&quot;SX|NS&quot;</td><td>&quot;NS&quot;</td><td>[0, 1, 2, 3, 4]</td><td>&quot;M&quot;</td><td>[05:45:00, 09:00:00]</td><td>[5, 28, 29, 32]</td></tr><tr><td>&quot;Super Expreso Norte&quot;</td><td>&quot;SNX|NSM&quot;</td><td>&quot;NS&quot;</td><td>[0, 1, 2, 3, 4]</td><td>&quot;M&quot;</td><td>[05:00:00, 10:00:00]</td><td>[5, 17, 18, 19, 23]</td></tr></tbody></table></div>"
      ],
      "text/plain": [
       "shape: (14, 7)\n",
       "┌───────────────┬───────────────┬───────────┬───────────────┬───────┬───────────────┬──────────────┐\n",
       "│ commercial_na ┆ name          ┆ direction ┆ days          ┆ shift ┆ schedule      ┆ stops        │\n",
       "│ me            ┆ ---           ┆ ---       ┆ ---           ┆ ---   ┆ ---           ┆ ---          │\n",
       "│ ---           ┆ str           ┆ str       ┆ list[i64]     ┆ str   ┆ list[time]    ┆ list[i64]    │\n",
       "│ str           ┆               ┆           ┆               ┆       ┆               ┆              │\n",
       "╞═══════════════╪═══════════════╪═══════════╪═══════════════╪═══════╪═══════════════╪══════════════╡\n",
       "│ A             ┆ A1            ┆ NS        ┆ [0, 1, 2, 3,  ┆ null  ┆ [05:00:00,    ┆ [5, 6, 7, 8, │\n",
       "│               ┆               ┆           ┆ 4, 5]         ┆       ┆ 23:00:00]     ┆ 9, 10, 11,   │\n",
       "│               ┆               ┆           ┆               ┆       ┆               ┆ 12, 13, 14,  │\n",
       "│               ┆               ┆           ┆               ┆       ┆               ┆ 15, 16, 20,  │\n",
       "│               ┆               ┆           ┆               ┆       ┆               ┆ 21…          │\n",
       "│ C             ┆ C1            ┆ NS        ┆ [0, 1, 2, 3,  ┆ null  ┆ [05:00:00,    ┆ [16, 20, 21, │\n",
       "│               ┆               ┆           ┆ 4, 5]         ┆       ┆ 23:00:00]     ┆ 22, 23, 24,  │\n",
       "│               ┆               ┆           ┆               ┆       ┆               ┆ 25, 26, 27,  │\n",
       "│               ┆               ┆           ┆               ┆       ┆               ┆ 28, 29, 30,  │\n",
       "│               ┆               ┆           ┆               ┆       ┆               ┆ 3…           │\n",
       "│ D             ┆ D1            ┆ NS        ┆ [0, 1, 2, 3,  ┆ null  ┆ [05:00:00,    ┆ [1, 2, 3, 4, │\n",
       "│               ┆               ┆           ┆ 4, 5]         ┆       ┆ 10:30:00]     ┆ 5, 6, 7, 8,  │\n",
       "│               ┆               ┆           ┆               ┆       ┆               ┆ 9, 10, 11,   │\n",
       "│               ┆               ┆           ┆               ┆       ┆               ┆ 12, 13, 14,  │\n",
       "│               ┆               ┆           ┆               ┆       ┆               ┆ 15…          │\n",
       "│ Expreso1      ┆ Expreso1|NS|M ┆ NS        ┆ [0, 1, 2, 3,  ┆ M     ┆ [05:30:00,    ┆ [23, 24, 27, │\n",
       "│               ┆ |1            ┆           ┆ 4]            ┆       ┆ 09:30:00]     ┆ 28, 31, 34,  │\n",
       "│               ┆               ┆           ┆               ┆       ┆               ┆ 36, 42]      │\n",
       "│ Expreso2      ┆ Expreso2|NS|1 ┆ NS        ┆ [0, 1, 2, 3,  ┆ M     ┆ [05:00:00,    ┆ [5, 26, 27,  │\n",
       "│               ┆               ┆           ┆ 4]            ┆       ┆ 09:00:00]     ┆ 32, 34]      │\n",
       "│ Expreso3      ┆ Expreso3|NS1  ┆ NS        ┆ [0, 1, 2, 3,  ┆ M     ┆ [05:30:00,    ┆ [5, 31, 33,  │\n",
       "│               ┆               ┆           ┆ 4]            ┆       ┆ 09:00:00]     ┆ 34]          │\n",
       "│ Expreso6      ┆ Expreso6|NS   ┆ NS        ┆ [0, 1, 2, 3,  ┆ M     ┆ [05:30:00,    ┆ [6, 8, 23,   │\n",
       "│               ┆               ┆           ┆ 4]            ┆       ┆ 10:00:00]     ┆ 27, 28, 31,  │\n",
       "│               ┆               ┆           ┆               ┆       ┆               ┆ 33]          │\n",
       "│ Expreso7      ┆ Expreso7|NS   ┆ NS        ┆ [0, 1, 2, 3,  ┆ M     ┆ [05:30:00,    ┆ [10, 23, 27, │\n",
       "│               ┆               ┆           ┆ 4]            ┆       ┆ 09:00:00]     ┆ 28, 31]      │\n",
       "│ Expreso9      ┆ Expreso9|NS   ┆ NS        ┆ [0, 1, 2, 3,  ┆ M     ┆ [05:30:00,    ┆ [13, 15, 26, │\n",
       "│               ┆               ┆           ┆ 4]            ┆       ┆ 09:00:00]     ┆ 28, 31, 33]  │\n",
       "│ Expreso10     ┆ Expreso10|NS  ┆ NS        ┆ [0, 1, 2, 3,  ┆ M     ┆ [06:00:00,    ┆ [5, 15, 16,  │\n",
       "│               ┆               ┆           ┆ 4]            ┆       ┆ 09:00:00]     ┆ 20, 21, 22,  │\n",
       "│               ┆               ┆           ┆               ┆       ┆               ┆ 23]          │\n",
       "│ Expreso11     ┆ Expreso11|NS  ┆ NS        ┆ [0, 1, 2, 3,  ┆ M     ┆ [05:00:00,    ┆ [1, 2, 3, 4, │\n",
       "│               ┆               ┆           ┆ 4]            ┆       ┆ 10:00:00]     ┆ 7, 23]       │\n",
       "│ Expreso12     ┆ Expreso12|NS  ┆ NS        ┆ [0, 1, 2, 3,  ┆ M     ┆ [05:45:00,    ┆ [23, 27, 28, │\n",
       "│               ┆               ┆           ┆ 4]            ┆       ┆ 10:00:00]     ┆ 31]          │\n",
       "│ Super Expreso ┆ SX|NS         ┆ NS        ┆ [0, 1, 2, 3,  ┆ M     ┆ [05:45:00,    ┆ [5, 28, 29,  │\n",
       "│               ┆               ┆           ┆ 4]            ┆       ┆ 09:00:00]     ┆ 32]          │\n",
       "│ Super Expreso ┆ SNX|NSM       ┆ NS        ┆ [0, 1, 2, 3,  ┆ M     ┆ [05:00:00,    ┆ [5, 17, 18,  │\n",
       "│ Norte         ┆               ┆           ┆ 4]            ┆       ┆ 10:00:00]     ┆ 19, 23]      │\n",
       "└───────────────┴───────────────┴───────────┴───────────────┴───────┴───────────────┴──────────────┘"
      ]
     },
     "execution_count": 11,
     "metadata": {},
     "output_type": "execute_result"
    }
   ],
   "source": [
    "routes_df"
   ]
  },
  {
   "cell_type": "code",
   "execution_count": 12,
   "metadata": {},
   "outputs": [
    {
     "name": "stdout",
     "output_type": "stream",
     "text": [
      "1: {2: [('D1', 1), ('Expreso11|NS', 1)]}\n",
      "2: {3: [('D1', 1), ('Expreso11|NS', 1)]}\n",
      "3: {4: [('D1', 1), ('Expreso11|NS', 1)]}\n",
      "4: {5: [('D1', 1)], 7: [('Expreso11|NS', 1.0)]}\n",
      "5: {6: [('A1', 1), ('D1', 1)], 26: [('Expreso2|NS|1', 1.4)], 31: [('Expreso3|NS1', 1.7333333333333334)], 15: [('Expreso10|NS', 1.6666666666666667)], 28: [('SX|NS', 1.5333333333333334)], 17: [('SNX|NSM', 1.5)]}\n",
      "6: {7: [('A1', 1), ('D1', 1)], 8: [('Expreso6|NS', 0.6666666666666666)]}\n",
      "7: {8: [('A1', 1), ('D1', 1)], 23: [('Expreso11|NS', 2.0)]}\n",
      "8: {9: [('A1', 1), ('D1', 1)], 23: [('Expreso6|NS', 1.875)]}\n",
      "9: {10: [('A1', 1), ('D1', 1)]}\n",
      "10: {11: [('A1', 1), ('D1', 1)], 23: [('Expreso7|NS', 1.625)]}\n",
      "11: {12: [('A1', 1), ('D1', 1)]}\n",
      "12: {13: [('A1', 1), ('D1', 1)]}\n",
      "13: {14: [('A1', 1), ('D1', 1)], 15: [('Expreso9|NS', 0.6666666666666666)]}\n",
      "14: {15: [('A1', 1), ('D1', 1)]}\n",
      "15: {16: [('A1', 1), ('Expreso10|NS', 1)], 17: [('D1', 0.6666666666666666)], 26: [('Expreso9|NS', 1.375)]}\n",
      "16: {20: [('A1', 1.0), ('C1', 1.0), ('Expreso10|NS', 1.0)]}\n",
      "17: {18: [('D1', 1), ('SNX|NSM', 1)]}\n",
      "18: {19: [('D1', 1), ('SNX|NSM', 1)]}\n",
      "19: {23: [('D1', 1.0), ('SNX|NSM', 1.0)]}\n",
      "20: {21: [('A1', 1), ('C1', 1), ('Expreso10|NS', 1)]}\n",
      "21: {22: [('A1', 1), ('C1', 1), ('Expreso10|NS', 1)]}\n",
      "22: {23: [('A1', 1), ('C1', 1), ('Expreso10|NS', 1)]}\n",
      "23: {24: [('C1', 1), ('Expreso1|NS|M|1', 1)], 27: [('Expreso6|NS', 1.0), ('Expreso7|NS', 1.0), ('Expreso12|NS', 1.0)]}\n",
      "24: {25: [('C1', 1)], 27: [('Expreso1|NS|M|1', 1.0)]}\n",
      "25: {26: [('C1', 1)]}\n",
      "26: {27: [('C1', 1), ('Expreso2|NS|1', 1)], 28: [('Expreso9|NS', 0.6666666666666666)]}\n",
      "27: {28: [('C1', 1), ('Expreso1|NS|M|1', 1), ('Expreso6|NS', 1), ('Expreso7|NS', 1), ('Expreso12|NS', 1)], 32: [('Expreso2|NS|1', 1.25)]}\n",
      "28: {29: [('C1', 1), ('SX|NS', 1)], 31: [('Expreso1|NS|M|1', 1.0), ('Expreso6|NS', 1.0), ('Expreso7|NS', 1.0), ('Expreso9|NS', 1.0), ('Expreso12|NS', 1.0)]}\n",
      "29: {30: [('C1', 1)], 32: [('SX|NS', 1.0)]}\n",
      "30: {31: [('C1', 1)]}\n",
      "31: {32: [('C1', 1)], 34: [('Expreso1|NS|M|1', 1.0)], 33: [('Expreso3|NS1', 0.6666666666666666), ('Expreso6|NS', 0.6666666666666666), ('Expreso9|NS', 0.6666666666666666)]}\n",
      "32: {33: [('C1', 1)], 34: [('Expreso2|NS|1', 0.6666666666666666)]}\n",
      "33: {34: [('C1', 1), ('Expreso3|NS1', 1)]}\n",
      "34: {35: [('C1', 1)], 36: [('Expreso1|NS|M|1', 0.6666666666666666)]}\n",
      "35: {36: [('C1', 1)]}\n",
      "36: {37: [('C1', 1)], 42: [('Expreso1|NS|M|1', 1.0)]}\n",
      "37: {38: [('C1', 1)]}\n",
      "38: {39: [('C1', 1)]}\n",
      "39: {40: [('C1', 1)]}\n",
      "40: {41: [('C1', 1)]}\n",
      "41: {42: [('C1', 1)]}\n",
      "42: {}\n"
     ]
    }
   ],
   "source": [
    "network.graph\n",
    "\n",
    "#Now print it sorted by the key\n",
    "\n",
    "for key in sorted(network.graph.keys()):\n",
    "    print(\"%s: %s\" % (key, network.graph[key]))"
   ]
  }
 ],
 "metadata": {
  "kernelspec": {
   "display_name": "venv",
   "language": "python",
   "name": "python3"
  },
  "language_info": {
   "codemirror_mode": {
    "name": "ipython",
    "version": 3
   },
   "file_extension": ".py",
   "mimetype": "text/x-python",
   "name": "python",
   "nbconvert_exporter": "python",
   "pygments_lexer": "ipython3",
   "version": "3.9.18"
  }
 },
 "nbformat": 4,
 "nbformat_minor": 2
}
